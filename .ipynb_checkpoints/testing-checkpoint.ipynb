{
 "cells": [
  {
   "cell_type": "code",
   "execution_count": null,
   "id": "a6672b8a",
   "metadata": {},
   "outputs": [],
   "source": [
    "import numpy as np\n",
    "import pandas as pd\n",
    "\n",
    "df = pd.DataFrame({'age': [6, 7, np.NaN],\n",
    "                   'born': [pd.NaT, pd.Timestamp('1989-05-28'),\n",
    "                            pd.Timestamp('1990-04-26')],\n",
    "                   'name': ['Phantom', 'Batman', ''],\n",
    "                   'toy': [None, 'Batmobile', 'Joker']})"
   ]
  }
 ],
 "metadata": {
  "kernelspec": {
   "display_name": "Python 3 (ipykernel)",
   "language": "python",
   "name": "python3"
  },
  "language_info": {
   "codemirror_mode": {
    "name": "ipython",
    "version": 3
   },
   "file_extension": ".py",
   "mimetype": "text/x-python",
   "name": "python",
   "nbconvert_exporter": "python",
   "pygments_lexer": "ipython3",
   "version": "3.9.10"
  }
 },
 "nbformat": 4,
 "nbformat_minor": 5
}
